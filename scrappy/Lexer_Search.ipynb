{
 "cells": [
  {
   "cell_type": "code",
   "execution_count": 12,
   "metadata": {},
   "outputs": [],
   "source": [
    "import requests\n",
    "from bs4 import BeautifulSoup"
   ]
  },
  {
   "cell_type": "code",
   "execution_count": 13,
   "metadata": {},
   "outputs": [],
   "source": [
    "headers = {\n",
    "    'User-Agent': 'Mozilla/5.0 (Macintosh; Intel Mac OS X 10_15_7) AppleWebKit/537.36 (KHTML, like Gecko) Chrome/91.0.4472.124 Safari/537.36'\n",
    "}\n",
    "cookies = {\n",
    "\n",
    "    '_pk_ses.1.699b':'1',\n",
    "    '_pk_id.1.699b': '3b077cf8a3b82cb8.1726142500.'\n",
    "}\n"
   ]
  },
  {
   "cell_type": "code",
   "execution_count": 14,
   "metadata": {},
   "outputs": [],
   "source": [
    "def Lexer_Search(index):\n",
    "    url = f\"https://woerterbuchnetz.de/?sigle=Lexer&lemid={index}\"\n",
    "    response = requests.get(url,headers=headers,cookies=cookies)\n",
    "\n",
    "    if response.status_code != 200:\n",
    "        print(f\"Error fetching data for {index}: {response.status_code}\")\n",
    "        return [(\"connection error\")]\n",
    "    \n",
    "    soup = BeautifulSoup(response.text, 'html.parser')\n",
    "    article_containers = soup.find_all('link')\n",
    "    print(soup)"
   ]
  },
  {
   "cell_type": "code",
   "execution_count": 15,
   "metadata": {},
   "outputs": [
    {
     "name": "stdout",
     "output_type": "stream",
     "text": [
      "<!DOCTYPE html>\n",
      "\n",
      "<html lang=\"de\">\n",
      "<head>\n",
      "<meta charset=\"utf-8\"/>\n",
      "<title>Wörterbuchnetz</title>\n",
      "<!-- Favicon -->\n",
      "<link href=\"/images/WBN_logotype_small10.png\" rel=\"shortcut icon\" type=\"image/x-icon\"/>\n",
      "<!-- external CSS -->\n",
      "<link href=\"/jquery-ui-1.12.1/jquery-ui.css\" rel=\"stylesheet\" type=\"text/css\">\n",
      "<link href=\"/jquery-ui-1.12.1/jquery-ui.theme.css\" rel=\"stylesheet\" type=\"text/css\"/>\n",
      "<link href=\"/jquery-ui-1.12.1/ui-layout.css\" rel=\"stylesheet\" type=\"text/css\"/>\n",
      "<link href=\"/jquery-ui-1.12.icon-font.css\" rel=\"stylesheet\" type=\"text/css\"/>\n",
      "<link href=\"/select2-4.0.12/dist/css/select2.css\" rel=\"stylesheet\" type=\"text/css\"/>\n",
      "<link href=\"/DataTables/datatables.css\" rel=\"stylesheet\" type=\"text/css\"/>\n",
      "<link href=\"/jsmind/jsmind.css\" rel=\"stylesheet\" type=\"text/css\"/>\n",
      "<!-- external JS -->\n",
      "<script src=\"/jquery-ui-1.12.1/external/jquery/jquery.js\"></script>\n",
      "<script src=\"/jquery-ui-1.12.1/jquery-ui.js\"></script>\n",
      "<script src=\"/d3/d3.v3.js\"></script>\n",
      "<script src=\"/d3/d3.v4.js\"></script>\n",
      "<script src=\"/jquery/jquery.layout.js\"></script>\n",
      "<script src=\"/js/pagination.js\"></script>\n",
      "<script src=\"/js/underscore-min.js\"></script>\n",
      "<script src=\"/openseadragon-bin-2.3.1/openseadragon.js\" type=\"text/javascript\"></script>\n",
      "<script src=\"/select2-4.0.12/dist/js/select2.js\"></script>\n",
      "<script src=\"/select2-4.0.12/dist/js/i18n/de.js\"></script>\n",
      "<script src=\"/DataTables/datatables.js\" type=\"text/javascript\"></script>\n",
      "<script src=\"/jquery/jQuery.print.js\" type=\"text/javascript\"></script>\n",
      "<script src=\"/qrcode/qrcode.js\" type=\"text/javascript\"></script>\n",
      "<script src=\"/jsmind/jsmind.js\" type=\"text/javascript\"></script>\n",
      "<script src=\"/jsmind/jsmind.draggable-node.js\" type=\"text/javascript\"></script>\n",
      "<!-- WÃ¶rterbuchnetz JS-Dateien -->\n",
      "<script src=\"/js/config.js\"></script>\n",
      "<script src=\"/js/globVars.js\"></script>\n",
      "<script src=\"/js/charMap.js\"></script>\n",
      "<script src=\"/js/wbProperties.js\"></script>\n",
      "<!-- WÃ¶rterbuchnetz CSS-Dateien -->\n",
      "<link href=\"/css/wbnetzfonts.css\" rel=\"stylesheet\" type=\"text/css\"/>\n",
      "<link href=\"/css/wbnetz.css\" rel=\"stylesheet\" type=\"text/css\"/>\n",
      "<link href=\"/css/frontpage.css\" rel=\"stylesheet\" type=\"text/css\"/>\n",
      "<link href=\"/css/pagination.css\" rel=\"stylesheet\" type=\"text/css\">\n",
      "<link href=\"/css/spinner.css\" rel=\"stylesheet\" type=\"text/css\">\n",
      "</link></link></link></head>\n",
      "<body style=\"margin: 0; padding: 0; overflow: hidden; background-color: #fdf9f2;\">\n",
      "<script>\n",
      "         globVars = {};\n",
      "         $(document).ready(initWBNetz);\n",
      "      </script>\n",
      "</body>\n",
      "</html>\n",
      "\n"
     ]
    }
   ],
   "source": [
    "Lexer_Search(\"W02005\")"
   ]
  }
 ],
 "metadata": {
  "kernelspec": {
   "display_name": "I-0-p1.Wil",
   "language": "python",
   "name": "python3"
  },
  "language_info": {
   "codemirror_mode": {
    "name": "ipython",
    "version": 3
   },
   "file_extension": ".py",
   "mimetype": "text/x-python",
   "name": "python",
   "nbconvert_exporter": "python",
   "pygments_lexer": "ipython3",
   "version": "3.12.3"
  }
 },
 "nbformat": 4,
 "nbformat_minor": 2
}
